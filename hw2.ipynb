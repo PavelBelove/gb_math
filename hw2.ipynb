{
 "cells": [
  {
   "cell_type": "markdown",
   "metadata": {},
   "source": [
    "# HW2\n",
    "## Pavel_Belov"
   ]
  },
  {
   "cell_type": "markdown",
   "metadata": {},
   "source": [
    "## 1. Задание \n",
    "Напишите уравнение параболы, проходящей через три точки (x,y):\n",
    "(1,2), (3,10), (5,1)\n"
   ]
  },
  {
   "cell_type": "markdown",
   "metadata": {},
   "source": [
    "Подставим значения в формулу параболы $y = ax^2 + bx + c$"
   ]
  },
  {
   "cell_type": "markdown",
   "metadata": {},
   "source": [
    "\\begin{cases}2 = a + b + c \\\\10 = 9a + 3b + c \\\\1 = 25a + 5b + c  \\end{cases}\n",
    "\\begin{cases}c =2- a - b \\\\10 = 9a + 3b + 2- a - b \\\\1 = 25a + 5b +2- a - b  \\end{cases}\n",
    "\\begin{cases}c =2- a - b \\\\8 = 8a + 2b \\\\-1 = 24a + 4b  \\end{cases}\n",
    "\n",
    "Домножим второе уравнение на 2 и вычтем из 3-го\n",
    "\n",
    "\n",
    "\n",
    "\n",
    "\n"
   ]
  },
  {
   "cell_type": "markdown",
   "metadata": {},
   "source": [
    "\n",
    "\\begin{cases}c =2- a - b \\\\8 = 8a + 2b \\\\-1 = 24a + 4b  \\end{cases}\n",
    "\n",
    "\\begin{cases}c =2- a - b \\\\16 = 16a + 4b \\\\17 = 8a  \\end{cases}\n",
    "\n",
    "\\begin{cases}a = -17/8 \\\\ b = 25/2 \\\\ c = - 67/8  \\end{cases}"
   ]
  },
  {
   "cell_type": "markdown",
   "metadata": {},
   "source": [
    "Ответ: $y =  -17/8 x^2  + 25/2 x - 67/8 $\n",
    "В качестве проверки подставим Х, У будет соответствовать. "
   ]
  },
  {
   "cell_type": "markdown",
   "metadata": {},
   "source": [
    "## 2. Задание \n",
    "Известно, что свежий огурец на 99% состоит из воды. Месяц назад взвесили мешок со свежими огурцами. Получилось, что огурцов ровно 100 кг. Мешок убрали, а через месяц снова взвесили. Огурцы за это время усохли, и теперь вода составляет уже только 98% их веса. Сколько теперь (в кг) весят огурцы?\n"
   ]
  },
  {
   "cell_type": "markdown",
   "metadata": {},
   "source": [
    "Сухой остаток весил и продолжает весить 1% от 100 == 1кг.\n",
    "\n",
    "Найдем такую массу, для которой 1 кг составляет 98%.\n",
    "\n",
    "1% = 1/2\n",
    "\n",
    "\n",
    "100% = 50\n",
    "\n",
    "\n",
    "Ответ: в мешке 50 кг сморщенных огурцов."
   ]
  },
  {
   "cell_type": "markdown",
   "metadata": {},
   "source": [
    "3. Задание. Определение логарифма. Решить уравнения:\n",
    "\n"
   ]
  },
  {
   "cell_type": "markdown",
   "metadata": {},
   "source": [
    "$2^{x} = 256$\n",
    "\n",
    "$x = 8$"
   ]
  },
  {
   "cell_type": "markdown",
   "metadata": {},
   "source": [
    "$2^{x} = 300$\n",
    "\n",
    "$x = \\log_{2}{300}$"
   ]
  },
  {
   "cell_type": "markdown",
   "metadata": {},
   "source": [
    "\n",
    "\n",
    "$\\log_{8}{2^{8x-4}} = 4$\n",
    "\n",
    "$\\log_{8}{2^{8x-4}} = log_{8}{2/3}$\n",
    "\n",
    "$2^{8x-4} = 2/3$\n",
    "\n",
    "\n",
    "$8x - 4 = \\log_{2}{2/3}$\n",
    "\n",
    "$x = \\frac{\\log_{2}{2/3 - 4} }{8}$"
   ]
  },
  {
   "cell_type": "code",
   "execution_count": null,
   "metadata": {},
   "outputs": [],
   "source": []
  }
 ],
 "metadata": {
  "language_info": {
   "codemirror_mode": {
    "name": "ipython",
    "version": 3
   },
   "file_extension": ".py",
   "mimetype": "text/x-python",
   "name": "python",
   "nbconvert_exporter": "python",
   "pygments_lexer": "ipython3",
   "version": 3
  },
  "orig_nbformat": 2
 },
 "nbformat": 4,
 "nbformat_minor": 2
}