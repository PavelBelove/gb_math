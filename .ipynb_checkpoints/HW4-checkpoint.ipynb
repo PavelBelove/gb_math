{
 "cells": [
  {
   "cell_type": "markdown",
   "metadata": {},
   "source": [
    "## Тема “Аналитическая геометрия” и “Графики на плоскости”"
   ]
  },
  {
   "cell_type": "markdown",
   "metadata": {},
   "source": [
    "1. Задание (на листочке)\n",
    "Решите уравнение \n",
    "sin(x)/x=0.\n"
   ]
  },
  {
   "cell_type": "markdown",
   "metadata": {},
   "source": [
    "Исключим x=0 из возможных корней, как обращающее знаменатель в ноль.\n",
    "\n",
    "Домножим обе части на x.\n",
    "\n",
    "$$\\sin{x} = 0$$\n",
    "\n",
    "Ответ: $х = \\pi n$ где $n\\neq 0$"
   ]
  },
  {
   "cell_type": "markdown",
   "metadata": {},
   "source": [
    "2. Задание (на листочке)\n",
    "Даны три прямые y=k1*x+b1, y=k2*x+b2,, y=k3*x+b3. Как узнать, пересекаются они в одной точке или нет?\n"
   ]
  },
  {
   "cell_type": "markdown",
   "metadata": {},
   "source": [
    "$$k_1*x+b_1=k_2*x+b_2=k_3*x+b_3$$\n",
    "\n"
   ]
  },
  {
   "cell_type": "markdown",
   "metadata": {},
   "source": [
    "\\begin{cases}k_1*x - k_2*x = b_2 - b_1\\\\k_1*x - k_3*x = b_3 - b_1\\end{cases}"
   ]
  },
  {
   "cell_type": "markdown",
   "metadata": {},
   "source": [
    "$$\\begin{cases}x(k_1 - k_2) = b_2 - b_1\\\\x(k_1 - k_3) = b_3 - b_1\\end{cases}$$"
   ]
  },
  {
   "cell_type": "markdown",
   "metadata": {},
   "source": [
    "$$\\begin{cases}x= \\frac{b_2 - b_1}{k_2 - k_1}\\\\x = \\frac{b_3 - b_1}{k_3 - k_1}\\end{cases}$$"
   ]
  },
  {
   "cell_type": "markdown",
   "metadata": {},
   "source": [
    "$$ \\frac{b_2 - b_1}{k_2 - k_1} = \\frac{b_3 - b_1}{k_3 - k_1}$$"
   ]
  },
  {
   "cell_type": "markdown",
   "metadata": {},
   "source": [
    "Разберем случай с нулевым знаменателем. В случае, если $k_1 = k_2$ или $k_3$, прямые совпадают. Очевидно, что в этом случае любая другая прямая, кроме параллельной, пересечет первые две в единственной точке. "
   ]
  },
  {
   "cell_type": "markdown",
   "metadata": {},
   "source": [
    "Ответ: Три прямые пересекаются в одной точке, если их коэффициенты k и b  соответствуют тождеству:\n",
    "$$(b_2 - b_1)(k_3 - k_1) = (b_3 - b_1)(k_2 - k_1)$$"
   ]
  },
  {
   "cell_type": "markdown",
   "metadata": {},
   "source": [
    "3. Задание (в программе или на листочке)\n",
    "На листе тетради «в линейку» (расстояние между линиями равно а) лежит игла (длиной b). Координаты нижней точки иглы (х,у), игла лежит под углом alfa. Пересекает ли игла линию или нет?\n"
   ]
  },
  {
   "cell_type": "markdown",
   "metadata": {},
   "source": [
    "Очевидно, возможны два случая.\n",
    "\n",
    "Если $b\\sin{\\alpha} > a$ - игла пересекает как минимум две линии.\n",
    "\n",
    "Если же $b\\sin{\\alpha} < a$, игла вероятно пересекает одну линию, причем эту вероятность можно выразить как:\n",
    "$$\\frac{b}{a}\\sin{\\alpha}$$"
   ]
  },
  {
   "cell_type": "markdown",
   "metadata": {},
   "source": [
    "\n",
    "Выберем систему координат так, чтобы одна из параллельных прямых совпала с осью х, а координата у нижней точки иглы лежала в диапазоне (0; a). Тогда игла пересекает линию у = а если:\n",
    "$$b \\sin \\alpha > a-y$$"
   ]
  },
  {
   "cell_type": "markdown",
   "metadata": {},
   "source": [
    "Найти угол между прямыми 4y - 3x + 12 = 0 и 7y + x - 14 = 0"
   ]
  },
  {
   "cell_type": "markdown",
   "metadata": {},
   "source": [
    "По формуле: $$\\phi = \\arccos{\\frac{B_1 B_2 + A_1 A_2}{\\sqrt{B_1^2 + A_1^2}\\sqrt{B_2^2 + A_2^2}}}$$"
   ]
  },
  {
   "cell_type": "markdown",
   "metadata": {},
   "source": [
    "Ответ, $\\phi = 45$ градусов."
   ]
  },
  {
   "cell_type": "markdown",
   "metadata": {},
   "source": [
    "Найти угол между прямыми $x = \\sqrt{2}$ и $ x = -\\sqrt{3}$"
   ]
  },
  {
   "cell_type": "markdown",
   "metadata": {},
   "source": [
    "Очевидно, что обе прямые параллельны оси у, и, естественно, между собой.\n",
    "\n",
    "Ответ, $\\phi = 0$ градусов."
   ]
  },
  {
   "cell_type": "markdown",
   "metadata": {},
   "source": []
  }
 ],
 "metadata": {
  "kernelspec": {
   "display_name": "Python 3",
   "language": "python",
   "name": "python3"
  },
  "language_info": {
   "codemirror_mode": {
    "name": "ipython",
    "version": 3
   },
   "file_extension": ".py",
   "mimetype": "text/x-python",
   "name": "python",
   "nbconvert_exporter": "python",
   "pygments_lexer": "ipython3",
   "version": "3.7.3"
  }
 },
 "nbformat": 4,
 "nbformat_minor": 2
}
