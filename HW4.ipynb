{
 "cells": [
  {
   "cell_type": "markdown",
   "metadata": {},
   "source": [
    "## Тема “Аналитическая геометрия” и “Графики на плоскости”"
   ]
  },
  {
   "cell_type": "markdown",
   "metadata": {},
   "source": [
    "1. Задание (на листочке)\n",
    "Решите уравнение \n",
    "sin(x)/x=0.\n"
   ]
  },
  {
   "cell_type": "markdown",
   "metadata": {},
   "source": [
    "Исключим x=0 из возможных корней, как обращающее знаменатель в ноль.\n",
    "\n",
    "Домножим обе части на x.\n",
    "\n",
    "$$\\sin{x} = 0$$\n",
    "\n",
    "Ответ: $х = \\pi n$ где $n\\neq 0$"
   ]
  },
  {
   "cell_type": "markdown",
   "metadata": {},
   "source": [
    "2. Задание (на листочке)\n",
    "Даны три прямые y=k1*x+b1, y=k2*x+b2,, y=k3*x+b3. Как узнать, пересекаются они в одной точке или нет?\n"
   ]
  },
  {
   "cell_type": "markdown",
   "metadata": {},
   "source": [
    "$$k_1*x+b_1=k_2*x+b_2=k_3*x+b_3$$\n",
    "\n"
   ]
  },
  {
   "cell_type": "markdown",
   "metadata": {},
   "source": [
    "\\begin{cases}k_1*x - k_2*x = b_2 - b_1\\\\k_1*x - k_3*x = b_3 - b_1\\end{cases}"
   ]
  },
  {
   "cell_type": "markdown",
   "metadata": {},
   "source": [
    "$$\\begin{cases}x(k_1 - k_2) = b_2 - b_1\\\\x(k_1 - k_3) = b_3 - b_1\\end{cases}$$"
   ]
  },
  {
   "cell_type": "markdown",
   "metadata": {},
   "source": [
    "$$\\begin{cases}x= \\frac{b_2 - b_1}{k_2 - k_1}\\\\x = \\frac{b_3 - b_1}{k_3 - k_1}\\end{cases}$$"
   ]
  },
  {
   "cell_type": "markdown",
   "metadata": {},
   "source": [
    "$$ \\frac{b_2 - b_1}{k_2 - k_1} = \\frac{b_3 - b_1}{k_3 - k_1}$$"
   ]
  },
  {
   "cell_type": "markdown",
   "metadata": {},
   "source": [
    "Разберем случай с нулевым знаменателем. В случае, если $k_1 = k_2$ или $k_3$, прямые совпадают. Очевидно, что в этом случае любая другая прямая, кроме параллельной, пересечет первые две в единственной точке. "
   ]
  },
  {
   "cell_type": "markdown",
   "metadata": {},
   "source": [
    "Ответ: Три прямые пересекаются в одной точке, если их коэффициенты k и b  соответствуют тождеству:\n",
    "$$(b_2 - b_1)(k_3 - k_1) = (b_3 - b_1)(k_2 - k_1)$$\n",
    "(b_2 - b_1)(k_3 - k_1) = (b_3 - b_1)(k_2 - k_1)"
   ]
  },
  {
   "cell_type": "markdown",
   "metadata": {},
   "source": [
    "3. Задание (в программе или на листочке)\n",
    "На листе тетради «в линейку» (расстояние между линиями равно а) лежит игла (длиной b). Координаты нижней точки иглы (х,у), игла лежит под углом alfa. Пересекает ли игла линию или нет?\n"
   ]
  },
  {
   "cell_type": "markdown",
   "metadata": {},
   "source": [
    "Очевидно, возможны два случая.\n",
    "\n",
    "Если $b\\sin{\\alpha} > a$ - игла пересекает как минимум две линии.\n",
    "\n",
    "Если же $b\\sin{\\alpha} < a$, игла вероятно пересекает одну линию, причем эту вероятность можно выразить как:\n",
    "$$\\frac{b}{a}\\sin{\\alpha}$$"
   ]
  },
  {
   "cell_type": "markdown",
   "metadata": {},
   "source": [
    "\n",
    "Выберем систему координат так, чтобы одна из параллельных прямых совпала с осью х, а координата у нижней точки иглы лежала в диапазоне (0; a). Тогда игла пересекает линию у = а если:\n",
    "$$b \\sin \\alpha > a-y$$"
   ]
  },
  {
   "cell_type": "markdown",
   "metadata": {},
   "source": [
    "Найти угол между прямыми 4y - 3x + 12 = 0 и 7y + x - 14 = 0"
   ]
  },
  {
   "cell_type": "markdown",
   "metadata": {},
   "source": [
    "По формуле: $$\\phi = \\arccos{\\frac{B_1 B_2 + A_1 A_2}{\\sqrt{B_1^2 + A_1^2}\\sqrt{B_2^2 + A_2^2}}}$$"
   ]
  },
  {
   "cell_type": "markdown",
   "metadata": {},
   "source": [
    "Ответ, $\\phi = 45$ градусов."
   ]
  },
  {
   "cell_type": "markdown",
   "metadata": {},
   "source": [
    "Найти угол между прямыми $x = \\sqrt{2}$ и $ x = -\\sqrt{3}$"
   ]
  },
  {
   "cell_type": "markdown",
   "metadata": {},
   "source": [
    "Очевидно, что обе прямые параллельны оси у, и, естественно, между собой.\n",
    "\n",
    "Ответ, $\\phi = 0$ градусов."
   ]
  },
  {
   "cell_type": "markdown",
   "metadata": {},
   "source": [
    "Выяснить тип кривых по уравнениям."
   ]
  },
  {
   "cell_type": "code",
   "execution_count": null,
   "metadata": {},
   "outputs": [],
   "source": [
    "import numpy as np\n",
    "from matplotlib import pyplot as plt"
   ]
  },
  {
   "cell_type": "code",
   "execution_count": null,
   "metadata": {},
   "outputs": [],
   "source": [
    "x = np.linspace(-5, 5, 100)\n",
    "y = 3*x + 1\n",
    "y2 = (-1/3)*x + 1\n",
    "plt.plot(x, y)\n",
    "plt.plot(x, y2)\n",
    "plt.xlabel(\"x\")\n",
    "plt.ylabel(\"y\")\n",
    "plt.grid(True)"
   ]
  },
  {
   "cell_type": "code",
   "execution_count": null,
   "metadata": {},
   "outputs": [],
   "source": [
    "x = np.linspace(-5, 5, 100)\n",
    "y = 3*x + 1\n",
    "y2 = (-1/3)*x + 1\n",
    "plt.plot(x, y)\n",
    "plt.plot(x, y2)\n",
    "plt.xlabel(\"x\")\n",
    "plt.ylabel(\"y\")\n",
    "plt.grid(True)"
   ]
  },
  {
   "cell_type": "markdown",
   "metadata": {},
   "source": [
    "Задание 17.6.2\n",
    "\n",
    "Найти угол alpha между прямыми $4y-3x+12=0$ и $7y+x-14=0$"
   ]
  },
  {
   "cell_type": "markdown",
   "metadata": {},
   "source": [
    "$$\n",
    "\\begin{cases}\n",
    "4y - 3x + 12 = 0 \\\\\n",
    "7y + x - 14 = 0\n",
    "\\end{cases}\n",
    "$$\n",
    "\n",
    "$$\n",
    "\\begin{cases}\n",
    "y - \\frac{3}{4}x + 3 = 0 \\\\\n",
    "y + \\frac{1}{7}x - 2 = 0\n",
    "\\end{cases}\n",
    "$$  \n",
    "\n",
    "$$\n",
    "\\begin{cases}\n",
    "y = \\frac{3}{4}x - 3 \\\\\n",
    "y = -\\frac{1}{7}x + 2\n",
    "\\end{cases}\n",
    "$$\n",
    "\n",
    "$$\n",
    "\\begin{cases}\n",
    "tg(\\alpha - \\beta)=\\frac{tg(\\alpha)-tg(\\beta)}{1+tg(\\alpha)tg(\\beta)} \\\\\n",
    "tg(\\alpha - \\beta)=\\frac{\\frac{3}{4} + \\frac{1}{7}}{1 - \\frac{3}{28}}\n",
    "\\end{cases}\n",
    "$$\n",
    "\n",
    "$$\n",
    "\\frac{\\frac{25}{28}}{\\frac{25}{28}}=1\n",
    "$$\n",
    "\n",
    "$$\n",
    "\\alpha - \\beta = \\frac{\\pi}{2}\n",
    "$$"
   ]
  },
  {
   "cell_type": "markdown",
   "metadata": {},
   "source": [
    "Задание 17.6.2\n",
    "\n",
    "Найти угол alpha между прямыми $x=\\sqrt{2}, x=-\\sqrt{3}$"
   ]
  },
  {
   "cell_type": "markdown",
   "metadata": {},
   "source": [
    "Обе прямые параллельны оси y и не пересекаются."
   ]
  },
  {
   "cell_type": "markdown",
   "metadata": {},
   "source": [
    "Задание\n",
    "\n",
    "Выяснить тип кривых второго порядка: порожденных следующими уравнениями"
   ]
  },
  {
   "cell_type": "markdown",
   "metadata": {},
   "source": [
    "17.6.5: \n",
    "$$\n",
    "y^2-2x-2y-5=0\n",
    "$$\n",
    "\n",
    "$$\n",
    "y^2-2y+4-2x-9=0\n",
    "$$\n",
    "\n",
    "$$\n",
    "\\begin{cases}\n",
    "(y-2)^2=2x+9 \\\\\n",
    "y^2 = 2px\n",
    "\\end{cases}\n",
    "$$\n",
    "\n",
    "Это  парабола, вдоль оси x"
   ]
  },
  {
   "cell_type": "markdown",
   "metadata": {},
   "source": [
    "17.6.6: \n",
    "$$3x^2+5y^2+12x-30y+42=0$$\n",
    "\n",
    "$$\n",
    "3x^2+5y^2+12x-30y+42=0\n",
    "$$\n",
    "\n",
    "\n",
    "$$\n",
    "3(x+4)^2+5(y^2-6y+ 36)-10=0\n",
    "$$\n",
    "\n",
    "$$\\frac{(x+4)^2}{\\frac{10}{3}}+\\frac{(y-6)^2}{2}=1$$\n",
    "\n",
    "\n",
    "Это эллипс"
   ]
  },
  {
   "cell_type": "markdown",
   "metadata": {},
   "source": [
    "17.6.7: \n",
    "\n",
    "$$2x^2-y^2+6y-7=0$$\n",
    "\n",
    "$$\n",
    "2x^2-(y^2-6y+36)+36-7=0\n",
    "2x^2-(y-6)^2=-29\n",
    "$$\n",
    "\n",
    "$$\n",
    "-\\frac{x^2}{\\frac{29}{2}}+\\frac{(y-6)^2}{29} = 1\n",
    "$$\n",
    "\n",
    "Это гипербола."
   ]
  },
  {
   "cell_type": "markdown",
   "metadata": {},
   "source": [
    "17.6.8: $$2x^2-3y^2-28x-42y-55=0$$\n",
    "\n",
    "$$\n",
    "2(x - 14)^2 - 196 -3y^2-42y-55=0\n",
    "$$\n",
    "\n",
    "$$\n",
    "2(x - 14)^2 -3(y+14)^2=55\n",
    "$$\n",
    "\n",
    "$$\n",
    "\\frac{(x - 14)^2}{\\frac{55}{2}} - \\frac{(y+14)^2}{\\frac{55}{3}} = 1\n",
    "$$\n",
    "\n",
    "Это тоже гипербола"
   ]
  },
  {
   "cell_type": "code",
   "execution_count": null,
   "metadata": {},
   "outputs": [],
   "source": []
  },
  {
   "cell_type": "code",
   "execution_count": null,
   "metadata": {},
   "outputs": [],
   "source": []
  }
 ],
 "metadata": {
  "kernelspec": {
   "display_name": "Python 3",
   "language": "python",
   "name": "python3"
  },
  "language_info": {
   "codemirror_mode": {
    "name": "ipython",
    "version": 3
   },
   "file_extension": ".py",
   "mimetype": "text/x-python",
   "name": "python",
   "nbconvert_exporter": "python",
   "pygments_lexer": "ipython3",
   "version": "3.7.3"
  }
 },
 "nbformat": 4,
 "nbformat_minor": 2
}
