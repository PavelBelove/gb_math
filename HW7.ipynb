{
 "cells": [
  {
   "cell_type": "markdown",
   "metadata": {},
   "source": [
    "# Lesson 07. Тема “Введение в линейную алгебру”"
   ]
  },
  {
   "cell_type": "code",
   "execution_count": 50,
   "metadata": {},
   "outputs": [],
   "source": [
    "import numpy as np \n",
    "import matplotlib.pyplot as plt\n",
    "import scipy \n",
    "import scipy.linalg  "
   ]
  },
  {
   "cell_type": "markdown",
   "metadata": {},
   "source": [
    "## 5.1.\n",
    "Вектор – это частный случай матрицы 1хN и Nх1. Повторите материал для векторов, уделяя особое внимание умножению A∙B.\n"
   ]
  },
  {
   "cell_type": "markdown",
   "metadata": {},
   "source": [
    "$$\n",
    " \\begin{bmatrix}\n",
    "  1 & 2 & 3 \\\\\n",
    "  4 & 0 & 6 \\\\\n",
    "  7 & 8 & 9\n",
    " \\end{bmatrix}\n",
    "+\n",
    " \\begin{bmatrix}\n",
    "  1 & 2 & 9 \\\\\n",
    "  3 & 1 & 5 \\\\\n",
    "  3 & 2 & 8\n",
    " \\end{bmatrix}\n",
    "=\n",
    " \\begin{bmatrix}\n",
    "  2 & 4 & 12 \\\\\n",
    "  7 & 1 & 11 \\\\\n",
    "  10 & 10 & 17\n",
    " \\end{bmatrix}\n",
    "$$"
   ]
  },
  {
   "cell_type": "markdown",
   "metadata": {},
   "source": [
    "$$\n",
    " \\begin{bmatrix}\n",
    "  1 & 2 & 3 \\\\\n",
    "  4 & 0 & 6 \\\\\n",
    "  7 & 8 & 9\n",
    " \\end{bmatrix}\n",
    "-\n",
    " \\begin{bmatrix}\n",
    "  1 & 2 & 9 \\\\\n",
    "  3 & 1 & 5 \\\\\n",
    "  3 & 2 & 8\n",
    " \\end{bmatrix}\n",
    "=\n",
    " \\begin{bmatrix}\n",
    "  0 & 0 & -6 \\\\\n",
    "  1 & -1 & 1 \\\\\n",
    "  4 & 6 & 1\n",
    " \\end{bmatrix}\n",
    "$$"
   ]
  },
  {
   "cell_type": "markdown",
   "metadata": {},
   "source": [
    "$$\n",
    " \\begin{bmatrix}\n",
    "  1 & 2 \\\\\n",
    "  4 & 0 \\\\\n",
    "  7 & 8 \n",
    " \\end{bmatrix}\n",
    "\\times\n",
    " \\begin{bmatrix}\n",
    "  1 & 2 & 9 \\\\\n",
    "  3 & 1 & 5 \n",
    " \\end{bmatrix}\n",
    "=\n",
    " \\begin{bmatrix}\n",
    "7 & 4 & 19 \\\\\n",
    "4 &\t8 & 36 \\\\\n",
    "31 & 22 & 103\n",
    " \\end{bmatrix}\n",
    "$$\n",
    "\n",
    "$$\n",
    "c_{11} = 1 \\bullet 1 + 2 \\bullet 3 = 1 + 6 = 7 \\\\\n",
    "c_{12} = 1 \\bullet 2 + 2 \\bullet 1 = 2 + 2 = 4 \\\\\n",
    "c_{13} = 1 \\bullet 9 + 2 \\bullet 5 = 9 + 10 = 19 \\\\\n",
    "c_{21} = 4 \\bullet 1 + 0 \\bullet 3 = 4 + 0 = 4 \\\\\n",
    "c_{22} = 4 \\bullet 2 + 0 \\bullet 1 = 8 + 0 = 8 \\\\\n",
    "c_{23} = 4 \\bullet 9 + 0 \\bullet 5 = 36 + 0 = 36 \\\\\n",
    "c_{31} = 7 \\bullet 1 + 8 \\bullet 3 = 7 + 24 = 31 \\\\\n",
    "c_{32} = 7 \\bullet 2 + 8 \\bullet 1 = 14 + 8 = 22 \\\\\n",
    "c_{33} = 7 \\bullet 9 + 8 \\bullet 5 = 63 + 40 = 103\n",
    "$$"
   ]
  },
  {
   "cell_type": "markdown",
   "metadata": {},
   "source": [
    "Вычислите, по возможности не используя программирование: $(5Е)^{–1}$, где Е – единичная матрица размера 5х5."
   ]
  },
  {
   "cell_type": "markdown",
   "metadata": {},
   "source": [
    "$$\n",
    " 5E=\\begin{bmatrix}\n",
    "  5 & 0 & 0 & 0 & 0 \\\\\n",
    "  0 & 5 & 0 & 0 & 0 \\\\\n",
    "  0 & 0 & 5 & 0 & 0 \\\\\n",
    "  0 & 0 & 0 & 5 & 0 \\\\\n",
    "  0 & 0 & 0 & 0 & 5\n",
    " \\end{bmatrix}\n",
    "$$\n",
    "\n",
    "Матрица натуральная. Для возведения в степень -1 воспользуемся свойством диагональных матриц. Обратная матрица так же является диагональной, при этом элементы на главной диагонали возводятся в -1 степень. Так же можно воспользоваться свойством натуральных матриц, и вынести $\\frac{1}{5}$ за скобки.\n",
    "\n",
    "$$\n",
    " (5E)^{-1}=\n",
    " \\begin{bmatrix}\n",
    "  \\frac{1}{5} & 0 & 0 & 0 & 0 \\\\\n",
    "  0 & \\frac{1}{5} & 0 & 0 & 0 \\\\\n",
    "  0 & 0 & \\frac{1}{5} & 0 & 0 \\\\\n",
    "  0 & 0 & 0 & \\frac{1}{5} & 0 \\\\\n",
    "  0 & 0 & 0 & 0 & \\frac{1}{5}\n",
    " \\end{bmatrix}\n",
    " =\n",
    " \\frac{1}{5}\\begin{bmatrix}\n",
    "  1 & 0 & 0 & 0 & 0 \\\\\n",
    "  0 & 1 & 0 & 0 & 0 \\\\\n",
    "  0 & 0 & 1 & 0 & 0 \\\\\n",
    "  0 & 0 & 0 & 1 & 0 \\\\\n",
    "  0 & 0 & 0 & 0 & 1\n",
    " \\end{bmatrix}\n",
    "$$\n",
    "\n"
   ]
  },
  {
   "cell_type": "markdown",
   "metadata": {},
   "source": [
    "## 5.2.\n",
    "Вычислите определитель:  \n",
    "$$\n",
    " \\begin{bmatrix}\n",
    "  1 & 2 & 3 \\\\\n",
    "  4 & 0 & 6 \\\\\n",
    "  7 & 8 & 9\n",
    " \\end{bmatrix}\n",
    "$$"
   ]
  },
  {
   "cell_type": "markdown",
   "metadata": {},
   "source": [
    "$$\n",
    "det A \n",
    "=\n",
    "\\begin{bmatrix}\n",
    "1 & 2 & 3 \\\\\n",
    "4 & 0 & 6 \\\\\n",
    "7 & 8 & 9\n",
    "\\end{bmatrix}\n",
    "=\n",
    "1\n",
    "\\begin{bmatrix}\n",
    "0 & 6 \\\\\n",
    "8 & 9\n",
    "\\end{bmatrix}\n",
    "-\n",
    "2\n",
    "\\begin{bmatrix}\n",
    "4 & 6 \\\\\n",
    "7 & 9\n",
    "\\end{bmatrix}\n",
    "+ \n",
    "3\n",
    "\\begin{bmatrix}\n",
    "4 & 0 \\\\\n",
    "7 & 8\n",
    "\\end{bmatrix}\n",
    "$$"
   ]
  },
  {
   "cell_type": "markdown",
   "metadata": {},
   "source": [
    "$$\n",
    "1 \\bullet (0\\bullet9 - 6\\bullet8)-2\\bullet(4\\bullet9 - 6\\bullet7)+ 3\\bullet(4\\bullet8 -0\\bullet7) = 60\n",
    "$$"
   ]
  },
  {
   "cell_type": "markdown",
   "metadata": {},
   "source": [
    "## 5.3.\n",
    "1. Вычислите матрицу, обратную данной:\n",
    "$$\n",
    " \\begin{bmatrix}\n",
    "  1 & 2 & 3 \\\\\n",
    "  4 & 0 & 6 \\\\\n",
    "  7 & 8 & 9\n",
    " \\end{bmatrix}\n",
    "$$"
   ]
  },
  {
   "cell_type": "markdown",
   "metadata": {},
   "source": [
    "Посчитаем алгебраические дополнения для 1 строки.\n",
    "\n",
    "$$\n",
    "A_{11} = (-1)^{1+1}\n",
    "\\begin{bmatrix}\n",
    "0 & 6 \\\\\n",
    "8 & 9\n",
    "\\end{bmatrix}\n",
    "=\n",
    "0 \\bullet 9 - 6 \\bullet 8 = -48\n",
    "$$\n",
    "\n",
    "$$\n",
    "A_{12} = (-1)^{1+2}\n",
    "\\begin{bmatrix}\n",
    "4 & 6 \\\\\n",
    "7 & 9\n",
    "\\end{bmatrix}\n",
    "=\n",
    "-1\\bullet(4 \\bullet 9) - (-1)\\bullet(6 \\bullet 7) = 6\n",
    "$$\n",
    "\n",
    "$$\n",
    "A_{13} = (-1)^{1+3}\n",
    "\\begin{bmatrix}\n",
    "4 & 0 \\\\\n",
    "7 & 8\n",
    "\\end{bmatrix}\n",
    "=\n",
    "4 \\bullet 8 - 0 \\bullet 7 = 32\n",
    "$$\n",
    "\n",
    "Определитель матрицы:\n",
    "$$\n",
    "detA = 1*(-48) + 2*6 + 3 * 32 = 60\n",
    "$$\n",
    "\n",
    "Не равен нулю, обратная матрица существует. Считаем остальные алгебраические дополнения.\n",
    "\n",
    "\n",
    "$$\n",
    "A_{21} = (-1)^{2+1}\n",
    "\\begin{bmatrix}\n",
    "2 & 3 \\\\\n",
    "8 & 9\n",
    "\\end{bmatrix}\n",
    "=\n",
    "-1\\bullet(2 \\bullet 9) - (-1)\\bullet(3 \\bullet 8) = 6\n",
    "$$\n",
    "\n",
    "$$\n",
    "A_{22} = (-1)^{2+2}\n",
    "\\begin{bmatrix}\n",
    "1 & 3 \\\\\n",
    "7 & 9\n",
    "\\end{bmatrix}\n",
    "=\n",
    "1 \\bullet 9 - 3 \\bullet 7 = -12\n",
    "$$\n",
    "\n",
    "$$\n",
    "A_{23} = (-1)^{2+3}\n",
    "\\begin{bmatrix}\n",
    "1 & 2 \\\\\n",
    "7 & 8\n",
    "\\end{bmatrix}\n",
    "=\n",
    "-1\\bullet(1 \\bullet 8) - (-1)\\bullet(2 \\bullet 7) = 6\n",
    "$$\n",
    "\n",
    "$$\n",
    "A_{31} = (-1)^{3+1}\n",
    "\\begin{bmatrix}\n",
    "2 & 3 \\\\\n",
    "0 & 6\n",
    "\\end{bmatrix}\n",
    "=\n",
    "2 \\bullet 6) - 3 \\bullet 0 = 12\n",
    "$$\n",
    "\n",
    "$$\n",
    "A_{32} = (-1)^{3+2}\n",
    "\\begin{bmatrix}\n",
    "1 & 3 \\\\\n",
    "4 & 6 \\\\\n",
    "\\end{bmatrix}\n",
    "=\n",
    "-1\\bullet(1 \\bullet 6) - (-1)\\bullet(3 \\bullet 4) = 6\n",
    "$$\n",
    "\n",
    "$$\n",
    "A_{33} = (-1)^{3+3}\n",
    "\\begin{bmatrix}\n",
    "1 & 2 \\\\\n",
    "4 & 0\n",
    "\\end{bmatrix}\n",
    "=\n",
    "1 \\bullet 0 - 2 \\bullet 4 = -8\n",
    "$$"
   ]
  },
  {
   "cell_type": "markdown",
   "metadata": {},
   "source": [
    "$$\n",
    "A^{-1} = A_*^T /detA = \n",
    "\\frac{1}{60} \\bullet\n",
    "\\begin{bmatrix}\n",
    "-48 & 6 & 12 \\\\\n",
    "6 & -12 & 6 \\\\\n",
    "32 & 6 & -8\n",
    " \\end{bmatrix}\n",
    "=\n",
    "\\begin{bmatrix}\n",
    "  -\\frac{4}{5} & \\frac{1}{10} & \\frac{1}{5} \\\\\n",
    "  \\frac{1}{10} & -\\frac{1}{5} & \\frac{1}{10} \\\\\n",
    "  \\frac{8}{15} & \\frac{1}{10} & -\\frac{2}{15}\n",
    " \\end{bmatrix}\n",
    "$$"
   ]
  },
  {
   "cell_type": "markdown",
   "metadata": {},
   "source": [
    "2. Приведите пример матрицы 4х4, ранг которой равен 1."
   ]
  },
  {
   "cell_type": "markdown",
   "metadata": {},
   "source": [
    "$$\n",
    "\\begin{bmatrix}\n",
    "3 & 1 & 2 & 3 \\\\\n",
    "6 & 2 & 4 & 6 \\\\\n",
    "3 & 1 & 2 & 3 \\\\\n",
    "6 & 2 & 4 & 6 \n",
    "\\end{bmatrix}\n",
    "$$"
   ]
  },
  {
   "cell_type": "code",
   "execution_count": 3,
   "metadata": {},
   "outputs": [
    {
     "data": {
      "text/plain": [
       "1"
      ]
     },
     "execution_count": 3,
     "metadata": {},
     "output_type": "execute_result"
    }
   ],
   "source": [
    "import numpy as np\n",
    "a = np.array([[3, 1, 2, 3], [6, 2, 4, 6], [3, 1, 2, 3], [6, 2, 4, 6]])\n",
    "np.linalg.matrix_rank(a)"
   ]
  },
  {
   "cell_type": "markdown",
   "metadata": {},
   "source": [
    "Первым объемным (в данном, одномерном, случае - имеющим длину) минором для данной матрицы будет $$\n",
    "\\begin{bmatrix}\n",
    "3 & 1\\\\\n",
    "\\end{bmatrix}\n",
    "$$\n",
    "Все остальные столбцы и строки могут быть выражены через него\n",
    "$$\n",
    "\\begin{bmatrix}\n",
    "3 & 1\\\\\n",
    "3*2 & 1*2 \\\\\n",
    "\\end{bmatrix}\n",
    "$$\n",
    " И так далее, до получения матрицы любого размера."
   ]
  },
  {
   "cell_type": "code",
   "execution_count": 4,
   "metadata": {},
   "outputs": [
    {
     "data": {
      "text/plain": [
       "1"
      ]
     },
     "execution_count": 4,
     "metadata": {},
     "output_type": "execute_result"
    }
   ],
   "source": [
    "a = np.array([[3, 1], [6, 2]])\n",
    "np.linalg.matrix_rank(a)"
   ]
  },
  {
   "cell_type": "markdown",
   "metadata": {},
   "source": [
    "## 5.4.\n",
    "Вычислите скалярное произведение двух векторов:  \n",
    "(1, 5)  и  (2, 8)"
   ]
  },
  {
   "cell_type": "markdown",
   "metadata": {},
   "source": [
    "$1 \\bullet 2 + 5 \\bullet 8 = 42$"
   ]
  },
  {
   "cell_type": "markdown",
   "metadata": {},
   "source": [
    "## 5.5\n",
    "Вычислите смешанное произведение трех векторов:\n",
    "(1, 5, 0), (2, 8, 7) и (7, 1.5, 3) "
   ]
  },
  {
   "cell_type": "markdown",
   "metadata": {},
   "source": [
    "$$\n",
    "\\bar{a} = (1 , 5, 0) \\\\\n",
    "\\bar{b} = (2, 8, 7)  \\\\\n",
    "\\bar{c} = (7, 1.5, 3) \\\\\n",
    "$$\n",
    "\n",
    "$$\n",
    "\\bar{a} \\times \\bar{b} = \\bar{i}(5 \\bullet 7 - 0 \\bullet 8)-\\bar{j}(1 \\bullet 7 - 0 \\bullet 2)+\\bar{k}(1 \\bullet 8 - 5 \\bullet 2) = 35\\bar i - 7\\bar{j} -2 \\bar{k}\n",
    "$$\n",
    "\n",
    "$$\n",
    "35 \\bullet 7 + (-7) \\bullet 1.5 + (-2) \\bullet 3 =228.5\n",
    "$$"
   ]
  },
  {
   "cell_type": "markdown",
   "metadata": {},
   "source": [
    "## Решение систем линейных уравнений\n",
    "\n",
    "1. Решите линейную систему:\n",
    "\n",
    "$$\n",
    "\\begin{bmatrix}\n",
    "  1 & 2 & 3 \\\\\n",
    "  4 & 0 & 6 \\\\\n",
    "  7 & 8 & 9\n",
    " \\end{bmatrix} \\cdot \\begin{bmatrix}\n",
    "  {x} \\\\\n",
    "  {y} \\\\\n",
    "  {z}\n",
    " \\end{bmatrix} =   \\begin{bmatrix}\n",
    "  12 \\\\\n",
    "  2 \\\\\n",
    "  1\n",
    " \\end{bmatrix} \n",
    "$$\n"
   ]
  },
  {
   "cell_type": "code",
   "execution_count": 51,
   "metadata": {},
   "outputs": [
    {
     "data": {
      "text/plain": [
       "array([-9.2       ,  0.9       ,  6.46666667])"
      ]
     },
     "execution_count": 51,
     "metadata": {},
     "output_type": "execute_result"
    }
   ],
   "source": [
    "A = np.array([[1, 2, 3], [4, 0, 6], [7, 8, 9]])\n",
    "B = np.array([12, 2, 1])\n",
    "np.linalg.solve(A, B)"
   ]
  },
  {
   "cell_type": "markdown",
   "metadata": {},
   "source": [
    "2. Найдите псевдорешение:\n",
    "\n",
    "$$\n",
    "\\begin{cases}\n",
    "x + 2y – z = 1 \\\\\n",
    "3x – 4y = 7 \\\\\n",
    "8x – 5y + 2z = 12 \\\\\n",
    "2x – 5z = 7 \\\\\n",
    "11x +4y – 7z = 15 \\\\\n",
    "\\end{cases}\n",
    "$$"
   ]
  },
  {
   "cell_type": "markdown",
   "metadata": {},
   "source": [
    "Запишем в матричном виде:\n",
    "$$\n",
    "\\begin{bmatrix}\n",
    "  1 & 2 & -1 \\\\\n",
    "  3 & -4 & 0 \\\\\n",
    "  8 & -5 & 2 \\\\\n",
    "  2 & 0 & -5 \\\\\n",
    "  11 & 4 & -7\n",
    " \\end{bmatrix} \\cdot \\begin{bmatrix}\n",
    "  {x} \\\\\n",
    "  {y} \\\\\n",
    "  {z}\n",
    " \\end{bmatrix} =   \\begin{bmatrix}\n",
    "  1 \\\\\n",
    "  7 \\\\\n",
    "  12 \\\\\n",
    "  7 \\\\\n",
    "  1\n",
    " \\end{bmatrix} \n",
    "$$"
   ]
  },
  {
   "cell_type": "code",
   "execution_count": 53,
   "metadata": {},
   "outputs": [
    {
     "name": "stderr",
     "output_type": "stream",
     "text": [
      "/home/oem/anaconda3/lib/python3.7/site-packages/ipykernel_launcher.py:3: FutureWarning: `rcond` parameter will change to the default of machine precision times ``max(M, N)`` where M and N are the input matrix dimensions.\n",
      "To use the future default and silence this warning we advise to pass `rcond=None`, to keep using the old, explicitly pass `rcond=-1`.\n",
      "  This is separate from the ipykernel package so we can avoid doing imports until\n"
     ]
    },
    {
     "data": {
      "text/plain": [
       "(array([ 0.33901371, -1.89529296, -0.89117382]),\n",
       " array([23.17471502]),\n",
       " 3,\n",
       " array([15.2817306 ,  9.59852942,  3.65197794]))"
      ]
     },
     "execution_count": 53,
     "metadata": {},
     "output_type": "execute_result"
    }
   ],
   "source": [
    "A = np.array([[1, 2, -1], [3, -4, 0], [8, -5, 2], [2, 0, -5], [11, 4, -7]])\n",
    "B = np.array([1, 7, 12, 7, 1])\n",
    "np.linalg.lstsq(A, B)\n",
    "\n",
    "# print(x,y, z)"
   ]
  },
  {
   "cell_type": "markdown",
   "metadata": {},
   "source": [
    "3. Сколько решений имеет линейная система:\n",
    "\n",
    "\n",
    "$$\n",
    "\\begin{bmatrix}\n",
    "  1 & 2 & 3 \\\\\n",
    "  4 & 5 & 6 \\\\\n",
    "  7 & 8 & 9\n",
    " \\end{bmatrix} \\cdot \\begin{bmatrix}\n",
    "  {x} \\\\\n",
    "  {y} \\\\\n",
    "  {z}\n",
    " \\end{bmatrix} =   \\begin{bmatrix}\n",
    "  12 \\\\\n",
    "  2 \\\\\n",
    "  1\n",
    " \\end{bmatrix} \n",
    "$$"
   ]
  },
  {
   "cell_type": "code",
   "execution_count": null,
   "metadata": {},
   "outputs": [],
   "source": []
  },
  {
   "cell_type": "code",
   "execution_count": 46,
   "metadata": {},
   "outputs": [],
   "source": [
    "A = np.array([[1, 2, 3], [4, 5, 6], [7, 8, 9]])\n",
    "B = np.array([12, 2, 1])\n"
   ]
  },
  {
   "cell_type": "code",
   "execution_count": 47,
   "metadata": {},
   "outputs": [
    {
     "data": {
      "text/plain": [
       "2"
      ]
     },
     "execution_count": 47,
     "metadata": {},
     "output_type": "execute_result"
    }
   ],
   "source": [
    "np.linalg.matrix_rank(A, 0.0001)"
   ]
  },
  {
   "cell_type": "markdown",
   "metadata": {},
   "source": [
    "Видим, что ранг матрицы меньше количества неизвестных. Система недоопределена."
   ]
  },
  {
   "cell_type": "markdown",
   "metadata": {},
   "source": [
    "Чтобы подобрать вектор B Например, сожно положить все его составлябщие нулем. Тогда все прямые пройдут через начало координат, и система будет иметь точное решение в этой точке."
   ]
  },
  {
   "cell_type": "code",
   "execution_count": 48,
   "metadata": {},
   "outputs": [
    {
     "data": {
      "text/plain": [
       "array([ 0.,  0., -0.])"
      ]
     },
     "execution_count": 48,
     "metadata": {},
     "output_type": "execute_result"
    }
   ],
   "source": [
    "A = np.array([[1, 2, 3], [4, 5, 6], [7, 8, 9]])\n",
    "B = np.array([0, 0, 0])\n",
    "np.linalg.solve(A, B)"
   ]
  },
  {
   "cell_type": "markdown",
   "metadata": {},
   "source": [
    "4. Вычислите LU-разложение матрицы:\n",
    ";;\n",
    "\\begin{bmatrix}\n",
    "  1 & 2 & 3 \\\\\n",
    "  2 & 16 & 21 \\\\\n",
    "  4 & 28 & 73\n",
    " \\end{bmatrix}\n",
    ";;\n"
   ]
  },
  {
   "cell_type": "code",
   "execution_count": 56,
   "metadata": {},
   "outputs": [
    {
     "name": "stdout",
     "output_type": "stream",
     "text": [
      "[[0. 1. 0.]\n",
      " [0. 0. 1.]\n",
      " [1. 0. 0.]]\n",
      "[[ 1.    0.    0.  ]\n",
      " [ 0.25  1.    0.  ]\n",
      " [ 0.5  -0.4   1.  ]]\n",
      "[[  4.    28.    73.  ]\n",
      " [  0.    -5.   -15.25]\n",
      " [  0.     0.   -21.6 ]]\n",
      "[[0. 0. 0.]\n",
      " [0. 0. 0.]\n",
      " [0. 0. 0.]]\n"
     ]
    }
   ],
   "source": [
    "A = np.array([ [1, 2, 3], [2, 16, 21], [4, 28, 73]])\n",
    "P, L, U = scipy.linalg.lu(A)\n",
    "\n",
    "print(P)\n",
    "print(L)\n",
    "print(U)\n",
    "\n",
    "print(np.dot(P.transpose(), A) - np.dot(L, U))"
   ]
  },
  {
   "cell_type": "markdown",
   "metadata": {},
   "source": [
    "После этого придумайте вектор правых частей и решите полученную линейную систему трех уравнений с данной матрицей.\n",
    "\n",
    "Логичнее \"решать\" в обратном порядке.Сначала выберем корни, потом - рассчитаем вектор B, при котором система будет решаться.\n",
    "\n",
    "Для простоты, примем x=y=z=1\n",
    "\n",
    "$$\n",
    "B=\\begin{bmatrix}\n",
    "  6 \\\\\n",
    "  39 \\\\\n",
    "  105\n",
    " \\end{bmatrix} \n",
    "$$\n",
    "\n"
   ]
  },
  {
   "cell_type": "code",
   "execution_count": 57,
   "metadata": {},
   "outputs": [
    {
     "data": {
      "text/plain": [
       "array([1., 1., 1.])"
      ]
     },
     "execution_count": 57,
     "metadata": {},
     "output_type": "execute_result"
    }
   ],
   "source": [
    "B = np.array([6, 39, 105])\n",
    "np.linalg.solve(A, B)"
   ]
  },
  {
   "cell_type": "markdown",
   "metadata": {},
   "source": [
    "5. Найдите нормальное псевдорешение недоопределенной системы:\n",
    "$$\n",
    "\\begin{cases}x + 2y – z = 1\\\\8x – 5y + 2z = 12\\end{cases}\n",
    "$$\n",
    "\n",
    "\n",
    "Для этого определите функцию Q(x,y,z), равную норме решения, и найдите ее минимум. \n"
   ]
  },
  {
   "cell_type": "code",
   "execution_count": null,
   "metadata": {},
   "outputs": [],
   "source": []
  }
 ],
 "metadata": {
  "kernelspec": {
   "display_name": "Python 3",
   "language": "python",
   "name": "python3"
  },
  "language_info": {
   "codemirror_mode": {
    "name": "ipython",
    "version": 3
   },
   "file_extension": ".py",
   "mimetype": "text/x-python",
   "name": "python",
   "nbconvert_exporter": "python",
   "pygments_lexer": "ipython3",
   "version": "3.7.3"
  },
  "toc": {
   "base_numbering": 1,
   "nav_menu": {},
   "number_sections": true,
   "sideBar": true,
   "skip_h1_title": false,
   "title_cell": "Table of Contents",
   "title_sidebar": "Contents",
   "toc_cell": false,
   "toc_position": {},
   "toc_section_display": true,
   "toc_window_display": false
  },
  "varInspector": {
   "cols": {
    "lenName": 16,
    "lenType": 16,
    "lenVar": 40
   },
   "kernels_config": {
    "python": {
     "delete_cmd_postfix": "",
     "delete_cmd_prefix": "del ",
     "library": "var_list.py",
     "varRefreshCmd": "print(var_dic_list())"
    },
    "r": {
     "delete_cmd_postfix": ") ",
     "delete_cmd_prefix": "rm(",
     "library": "var_list.r",
     "varRefreshCmd": "cat(var_dic_list()) "
    }
   },
   "types_to_exclude": [
    "module",
    "function",
    "builtin_function_or_method",
    "instance",
    "_Feature"
   ],
   "window_display": false
  }
 },
 "nbformat": 4,
 "nbformat_minor": 2
}
