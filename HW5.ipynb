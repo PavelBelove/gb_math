{
 "cells": [
  {
   "cell_type": "markdown",
   "metadata": {},
   "source": [
    "## Практические задания к уроку “Элементы теории вероятностей”\n",
    "\n"
   ]
  },
  {
   "cell_type": "code",
   "execution_count": 37,
   "metadata": {},
   "outputs": [],
   "source": [
    "import numpy as np\n",
    "import math\n",
    "import itertools\n",
    "import random\n",
    "import pandas as pd\n",
    "import matplotlib.pyplot as plt\n",
    "%matplotlib inline"
   ]
  },
  {
   "cell_type": "markdown",
   "metadata": {},
   "source": [
    "### Задание 1 \n",
    "Напишите код, моделирующий выпадение поля в рулетке (с учетом поля зеро)."
   ]
  },
  {
   "cell_type": "code",
   "execution_count": 45,
   "metadata": {},
   "outputs": [],
   "source": [
    "\n",
    "def roulette():\n",
    "    pool = [i for i in range(37)]\n",
    "    num = random.choice(pool)\n",
    "    if pool.index(num) = 0:\n",
    "        color = 'zero'\n",
    "    if pool.index(num) % 2 != 0:\n",
    "        color = 'red'\n",
    "    else pool.index(num) % 2 == 0:\n",
    "        color = 'black'\n",
    "        \n",
    "    return num, color\n",
    "\n"
   ]
  },
  {
   "cell_type": "code",
   "execution_count": 54,
   "metadata": {},
   "outputs": [],
   "source": [
    "result = pd.Series([0 for _ in range(37)])\n",
    "for _ in range(370):\n",
    "    result[roulette()[0]] += 1\n",
    "# result"
   ]
  },
  {
   "cell_type": "code",
   "execution_count": 56,
   "metadata": {},
   "outputs": [
    {
     "data": {
      "image/png": "[encoded data removed]",
      "text/plain": [
       "<Figure size 432x288 with 1 Axes>"
      ]
     },
     "metadata": {
      "needs_background": "light"
     },
     "output_type": "display_data"
    }
   ],
   "source": [
    "plt.hist(result.index, bins=37, weights=result)\n",
    "plt.show()"
   ]
  },
  {
   "cell_type": "markdown",
   "metadata": {},
   "source": [
    "### Задание 2\n",
    "\n",
    "1) Напишите код, проверяющий любую из теорем сложения или умножения вероятности на примере рулетки или подбрасывания монетки."
   ]
  },
  {
   "cell_type": "markdown",
   "metadata": {},
   "source": [
    "Использую функцию рулетки из 1 задания, добавив в result больше игр."
   ]
  },
  {
   "cell_type": "code",
   "execution_count": 70,
   "metadata": {},
   "outputs": [
    {
     "data": {
      "text/plain": [
       "0     1\n",
       "1     2\n",
       "2     2\n",
       "3     3\n",
       "4     1\n",
       "5     3\n",
       "6     1\n",
       "7     4\n",
       "8     1\n",
       "9     0\n",
       "10    2\n",
       "11    3\n",
       "12    4\n",
       "13    3\n",
       "14    2\n",
       "15    4\n",
       "16    4\n",
       "17    2\n",
       "18    4\n",
       "19    5\n",
       "20    0\n",
       "21    5\n",
       "22    1\n",
       "23    4\n",
       "24    2\n",
       "25    4\n",
       "26    4\n",
       "27    3\n",
       "28    3\n",
       "29    4\n",
       "30    1\n",
       "31    3\n",
       "32    4\n",
       "33    3\n",
       "34    1\n",
       "35    5\n",
       "36    2\n",
       "dtype: int64"
      ]
     },
     "execution_count": 70,
     "metadata": {},
     "output_type": "execute_result"
    }
   ],
   "source": [
    "result = pd.Series([0 for _ in range(37)])\n",
    "n = 100000\n",
    "for _ in range(n):\n",
    "    result[roulette()[0]] += 1\n",
    "result"
   ]
  },
  {
   "cell_type": "code",
   "execution_count": 71,
   "metadata": {},
   "outputs": [
    {
     "data": {
      "text/plain": [
       "1.0000000000000002"
      ]
     },
     "execution_count": 71,
     "metadata": {},
     "output_type": "execute_result"
    }
   ],
   "source": [
    "probabilities = result / n\n",
    "probabilities.sum()"
   ]
  },
  {
   "cell_type": "markdown",
   "metadata": {},
   "source": [
    "2) Сгенерируйте десять выборок случайных чисел х0, …, х9. И постройте гистограмму распределения случайной суммы х0+х1+ …+ х9"
   ]
  },
  {
   "cell_type": "code",
   "execution_count": 83,
   "metadata": {},
   "outputs": [
    {
     "data": {
      "text/html": [
       "<div>\n",
       "<style scoped>\n",
       "    .dataframe tbody tr th:only-of-type {\n",
       "        vertical-align: middle;\n",
       "    }\n",
       "\n",
       "    .dataframe tbody tr th {\n",
       "        vertical-align: top;\n",
       "    }\n",
       "\n",
       "    .dataframe thead th {\n",
       "        text-align: right;\n",
       "    }\n",
       "</style>\n",
       "<table border=\"1\" class=\"dataframe\">\n",
       "  <thead>\n",
       "    <tr style=\"text-align: right;\">\n",
       "      <th></th>\n",
       "      <th>0</th>\n",
       "      <th>1</th>\n",
       "      <th>2</th>\n",
       "      <th>3</th>\n",
       "      <th>4</th>\n",
       "      <th>5</th>\n",
       "      <th>6</th>\n",
       "      <th>7</th>\n",
       "      <th>8</th>\n",
       "      <th>9</th>\n",
       "      <th>10</th>\n",
       "      <th>11</th>\n",
       "      <th>12</th>\n",
       "      <th>13</th>\n",
       "      <th>14</th>\n",
       "      <th>15</th>\n",
       "      <th>16</th>\n",
       "      <th>17</th>\n",
       "      <th>18</th>\n",
       "      <th>19</th>\n",
       "    </tr>\n",
       "  </thead>\n",
       "  <tbody>\n",
       "    <tr>\n",
       "      <th>5</th>\n",
       "      <td>0.857255</td>\n",
       "      <td>0.134854</td>\n",
       "      <td>0.143566</td>\n",
       "      <td>0.346456</td>\n",
       "      <td>0.463313</td>\n",
       "      <td>0.884989</td>\n",
       "      <td>0.874465</td>\n",
       "      <td>0.499751</td>\n",
       "      <td>0.473510</td>\n",
       "      <td>0.479091</td>\n",
       "      <td>0.302078</td>\n",
       "      <td>0.985265</td>\n",
       "      <td>0.360101</td>\n",
       "      <td>0.735337</td>\n",
       "      <td>0.792263</td>\n",
       "      <td>0.750960</td>\n",
       "      <td>0.423942</td>\n",
       "      <td>0.999799</td>\n",
       "      <td>0.275996</td>\n",
       "      <td>0.650779</td>\n",
       "    </tr>\n",
       "    <tr>\n",
       "      <th>6</th>\n",
       "      <td>0.168873</td>\n",
       "      <td>0.363208</td>\n",
       "      <td>0.415883</td>\n",
       "      <td>0.355800</td>\n",
       "      <td>0.973449</td>\n",
       "      <td>0.199424</td>\n",
       "      <td>0.651366</td>\n",
       "      <td>0.359811</td>\n",
       "      <td>0.198134</td>\n",
       "      <td>0.424396</td>\n",
       "      <td>0.995080</td>\n",
       "      <td>0.060575</td>\n",
       "      <td>0.414560</td>\n",
       "      <td>0.989007</td>\n",
       "      <td>0.922313</td>\n",
       "      <td>0.001250</td>\n",
       "      <td>0.178503</td>\n",
       "      <td>0.646839</td>\n",
       "      <td>0.380839</td>\n",
       "      <td>0.438745</td>\n",
       "    </tr>\n",
       "    <tr>\n",
       "      <th>7</th>\n",
       "      <td>0.991553</td>\n",
       "      <td>0.966718</td>\n",
       "      <td>0.933399</td>\n",
       "      <td>0.915282</td>\n",
       "      <td>0.320991</td>\n",
       "      <td>0.072811</td>\n",
       "      <td>0.565291</td>\n",
       "      <td>0.853670</td>\n",
       "      <td>0.132917</td>\n",
       "      <td>0.358020</td>\n",
       "      <td>0.639992</td>\n",
       "      <td>0.214190</td>\n",
       "      <td>0.919011</td>\n",
       "      <td>0.388424</td>\n",
       "      <td>0.890585</td>\n",
       "      <td>0.751999</td>\n",
       "      <td>0.897882</td>\n",
       "      <td>0.342054</td>\n",
       "      <td>0.079857</td>\n",
       "      <td>0.459101</td>\n",
       "    </tr>\n",
       "    <tr>\n",
       "      <th>8</th>\n",
       "      <td>0.064819</td>\n",
       "      <td>0.999703</td>\n",
       "      <td>0.037046</td>\n",
       "      <td>0.819171</td>\n",
       "      <td>0.922967</td>\n",
       "      <td>0.123951</td>\n",
       "      <td>0.257709</td>\n",
       "      <td>0.045713</td>\n",
       "      <td>0.605058</td>\n",
       "      <td>0.613435</td>\n",
       "      <td>0.279010</td>\n",
       "      <td>0.896935</td>\n",
       "      <td>0.967121</td>\n",
       "      <td>0.169048</td>\n",
       "      <td>0.893055</td>\n",
       "      <td>0.313856</td>\n",
       "      <td>0.408591</td>\n",
       "      <td>0.030151</td>\n",
       "      <td>0.901598</td>\n",
       "      <td>0.006814</td>\n",
       "    </tr>\n",
       "    <tr>\n",
       "      <th>9</th>\n",
       "      <td>0.361313</td>\n",
       "      <td>0.848759</td>\n",
       "      <td>0.507034</td>\n",
       "      <td>0.167936</td>\n",
       "      <td>0.816021</td>\n",
       "      <td>0.760062</td>\n",
       "      <td>0.068686</td>\n",
       "      <td>0.678748</td>\n",
       "      <td>0.948899</td>\n",
       "      <td>0.014612</td>\n",
       "      <td>0.011412</td>\n",
       "      <td>0.696703</td>\n",
       "      <td>0.474475</td>\n",
       "      <td>0.338501</td>\n",
       "      <td>0.320484</td>\n",
       "      <td>0.843854</td>\n",
       "      <td>0.628513</td>\n",
       "      <td>0.275455</td>\n",
       "      <td>0.267587</td>\n",
       "      <td>0.129036</td>\n",
       "    </tr>\n",
       "  </tbody>\n",
       "</table>\n",
       "</div>"
      ],
      "text/plain": [
       "         0         1         2         3         4         5         6   \\\n",
       "5  0.857255  0.134854  0.143566  0.346456  0.463313  0.884989  0.874465   \n",
       "6  0.168873  0.363208  0.415883  0.355800  0.973449  0.199424  0.651366   \n",
       "7  0.991553  0.966718  0.933399  0.915282  0.320991  0.072811  0.565291   \n",
       "8  0.064819  0.999703  0.037046  0.819171  0.922967  0.123951  0.257709   \n",
       "9  0.361313  0.848759  0.507034  0.167936  0.816021  0.760062  0.068686   \n",
       "\n",
       "         7         8         9         10        11        12        13  \\\n",
       "5  0.499751  0.473510  0.479091  0.302078  0.985265  0.360101  0.735337   \n",
       "6  0.359811  0.198134  0.424396  0.995080  0.060575  0.414560  0.989007   \n",
       "7  0.853670  0.132917  0.358020  0.639992  0.214190  0.919011  0.388424   \n",
       "8  0.045713  0.605058  0.613435  0.279010  0.896935  0.967121  0.169048   \n",
       "9  0.678748  0.948899  0.014612  0.011412  0.696703  0.474475  0.338501   \n",
       "\n",
       "         14        15        16        17        18        19  \n",
       "5  0.792263  0.750960  0.423942  0.999799  0.275996  0.650779  \n",
       "6  0.922313  0.001250  0.178503  0.646839  0.380839  0.438745  \n",
       "7  0.890585  0.751999  0.897882  0.342054  0.079857  0.459101  \n",
       "8  0.893055  0.313856  0.408591  0.030151  0.901598  0.006814  \n",
       "9  0.320484  0.843854  0.628513  0.275455  0.267587  0.129036  "
      ]
     },
     "execution_count": 83,
     "metadata": {},
     "output_type": "execute_result"
    }
   ],
   "source": [
    "x = pd.DataFrame([np.random.rand(20) for _ in range(10)])\n",
    "x.tail()"
   ]
  },
  {
   "cell_type": "code",
   "execution_count": 90,
   "metadata": {},
   "outputs": [
    {
     "data": {
      "image/png": "[encoded data removed]",
      "text/plain": [
       "<Figure size 432x288 with 1 Axes>"
      ]
     },
     "metadata": {
      "needs_background": "light"
     },
     "output_type": "display_data"
    }
   ],
   "source": [
    "plt.hist(x.index, weights=x.T.sum())\n",
    "plt.show()"
   ]
  },
  {
   "cell_type": "markdown",
   "metadata": {},
   "source": [
    "## Задание 3"
   ]
  },
  {
   "cell_type": "code",
   "execution_count": 92,
   "metadata": {},
   "outputs": [
    {
     "name": "stdout",
     "output_type": "stream",
     "text": [
      "37401 100000 0.37401\n"
     ]
    }
   ],
   "source": [
    "\n",
    "i = 0 # Счетчик \n",
    "r = 100000 #Количество повторов эксперимента\n",
    "k = 2 # Интересующее нас количество исходов\n",
    "n = 4 # Количество независимых событий\n",
    "\n",
    "a = np.random.randint(0, 2, r)\n",
    "b = np.random.randint(0, 2, r)\n",
    "c = np.random.randint(0, 2, r)\n",
    "d = np.random.randint(0, 2, r)\n",
    "x = a + b + c + d\n",
    "for el in x:    \n",
    "    if el == k:\n",
    "        i += 1\n",
    "print(i, r, i/r)"
   ]
  },
  {
   "cell_type": "code",
   "execution_count": 35,
   "metadata": {},
   "outputs": [
    {
     "data": {
      "text/plain": [
       "0.375"
      ]
     },
     "execution_count": 35,
     "metadata": {},
     "output_type": "execute_result"
    }
   ],
   "source": [
    "c = (math.factorial(n) / (math.factorial(k) * math.factorial(n - k)))\n",
    "P = c * 1/2**n\n",
    "P"
   ]
  },
  {
   "cell_type": "markdown",
   "metadata": {},
   "source": [
    "### Задание 4\n",
    "Из урока по комбинаторике повторите расчеты, сгенерировав возможные варианты перестановок для других значений n и k\n"
   ]
  },
  {
   "cell_type": "markdown",
   "metadata": {},
   "source": [
    "Решено в задании 3. Достаточно задать переменной k соответствующее значение. Для изменения n, правда, придется добавить или убрать слагаемых."
   ]
  },
  {
   "cell_type": "markdown",
   "metadata": {},
   "source": [
    "### Задание 5\n",
    "\n",
    "Дополните код расчетом коэффициента корреляции x и y по формуле"
   ]
  },
  {
   "cell_type": "code",
   "execution_count": 108,
   "metadata": {},
   "outputs": [
    {
     "data": {
      "image/png": "[encoded data removed]",
      "text/plain": [
       "<Figure size 432x288 with 1 Axes>"
      ]
     },
     "metadata": {
      "needs_background": "light"
     },
     "output_type": "display_data"
    }
   ],
   "source": [
    "n = 100\n",
    "r = 0.8\n",
    "x =np.random.rand(n)\n",
    "y = r * x + (1 - r)*np.random.rand(n)\n",
    "plt.plot(x, y, 'o');"
   ]
  },
  {
   "cell_type": "code",
   "execution_count": 109,
   "metadata": {},
   "outputs": [
    {
     "data": {
      "text/plain": [
       "array([[1.        , 0.93047467],\n",
       "       [0.93047467, 1.        ]])"
      ]
     },
     "execution_count": 109,
     "metadata": {},
     "output_type": "execute_result"
    }
   ],
   "source": [
    "np.corrcoef(x,y)"
   ]
  },
  {
   "cell_type": "code",
   "execution_count": 110,
   "metadata": {},
   "outputs": [
    {
     "data": {
      "text/plain": [
       "0.9304746673506569"
      ]
     },
     "execution_count": 110,
     "metadata": {},
     "output_type": "execute_result"
    }
   ],
   "source": [
    "\n",
    "np.sum((x - x.mean()) * (y - y.mean())) / np.sqrt(np.sum((x - x.mean()) ** 2) * np.sum((y - y.mean()) ** 2))"
   ]
  },
  {
   "cell_type": "code",
   "execution_count": null,
   "metadata": {},
   "outputs": [],
   "source": []
  },
  {
   "cell_type": "code",
   "execution_count": null,
   "metadata": {},
   "outputs": [],
   "source": []
  }
 ],
 "metadata": {
  "kernelspec": {
   "display_name": "Python 3",
   "language": "python",
   "name": "python3"
  },
  "language_info": {
   "codemirror_mode": {
    "name": "ipython",
    "version": 3
   },
   "file_extension": ".py",
   "mimetype": "text/x-python",
   "name": "python",
   "nbconvert_exporter": "python",
   "pygments_lexer": "ipython3",
   "version": "3.7.3"
  }
 },
 "nbformat": 4,
 "nbformat_minor": 2
}
